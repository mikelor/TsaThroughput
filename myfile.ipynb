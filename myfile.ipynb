{
 "metadata": {
  "language_info": {
   "codemirror_mode": {
    "name": "ipython",
    "version": 3
   },
   "file_extension": ".py",
   "mimetype": "text/x-python",
   "name": "python",
   "nbconvert_exporter": "python",
   "pygments_lexer": "ipython3",
   "version": "3.8.2-final"
  },
  "orig_nbformat": 2,
  "kernelspec": {
   "name": "python3",
   "display_name": "Python 3",
   "language": "python"
  }
 },
 "nbformat": 4,
 "nbformat_minor": 2,
 "cells": [
  {
   "cell_type": "code",
   "execution_count": null,
   "metadata": {},
   "outputs": [],
   "source": [
    "import numpy as np\n",
    "import matplotlib.pyplot as plt\n",
    "import pandas as pd\n",
    "\n",
    "import matplotlib.animation as ani\n",
    "import matplotlib.dates as mdates\n",
    "import matplotlib.ticker as ticker\n",
    "\n",
    "from pathlib import Path\n",
    "\n",
    "# Load the file into a dataframe and checkout the structure\n",
    "projectDir = Path('.').resolve().parents[2]\n",
    "\n",
    "# Read in CSV file, Convert NaN values to 0's\n",
    "df = pd.read_csv(f'{projectDir}/data/processed/tsa/throughput/TsaThroughput.SEA.csv', header='infer')\n",
    "df.fillna(0, inplace=True)\n",
    "df.Date = pd.to_datetime(df['Date'])\n",
    "\n",
    "# Sum up the amount numbers by day for our graph\n",
    "df['Total'] = df.sum(axis = 1, skipna = True)\n",
    "dfg = df.groupby('Date', as_index=False).agg({'Total': 'sum'})"
   ]
  },
  {
   "cell_type": "code",
   "execution_count": null,
   "metadata": {},
   "outputs": [],
   "source": [
    "def setupChart(plt):\n",
    "\tplt.xticks(rotation=45, ha=\"right\", rotation_mode=\"anchor\") #rotate the x-axis values\n",
    "\t\n",
    "\tax = plt.gca()\n",
    "\n",
    "\tTest\n",
    "\t\n",
    "\tax.xaxis.set_major_locator(mdates.MonthLocator(interval=1))\n",
    "\tax.xaxis.set_major_formatter(mdates.DateFormatter('%Y-%m-%d'))\n",
    "\tax.xaxis.set_minor_locator(mdates.DayLocator(interval=7))\n",
    "\n",
    "\tax.yaxis.set_major_locator(ticker.MultipleLocator(5000))\n",
    "\tax.yaxis.set_minor_locator(ticker.MultipleLocator(1000))\n",
    "\n",
    "\tplt.title('LAS TSA Throughput by Date', fontsize=24)\n",
    "\tplt.ylabel('Number of Passengers', fontsize=16)\n",
    "\tplt.xlabel('Date', fontsize=16)\n",
    "\n",
    "\tplt.grid(True)\n",
    "\n",
    "\treturn plt"
   ]
  },
  {
   "cell_type": "code",
   "execution_count": null,
   "metadata": {},
   "outputs": [],
   "source": [
    "def buildAreaChart(plt, df, labels, colors):\n",
    "\tplt.stackplot(df['Date'], df['Total'], labels='Total', colors='blue')\n",
    "\treturn plt"
   ]
  },
  {
   "cell_type": "code",
   "execution_count": null,
   "metadata": {},
   "outputs": [],
   "source": [
    "def buildLineChart(plt, df, labels, colors):\n",
    "\tplt.plot(df['Date'], df['Total'], color='blue', label='Total')\n",
    "\n",
    "\treturn plt"
   ]
  },
  {
   "cell_type": "code",
   "execution_count": null,
   "metadata": {},
   "outputs": [],
   "source": [
    "def animateChart(i = int):\n",
    "\tp = plt.plot(dfg.loc[:i,'Date'], dfg.loc[:i, 'Total'])"
   ]
  },
  {
   "cell_type": "code",
   "execution_count": null,
   "metadata": {},
   "outputs": [],
   "source": [
    "fig, ax = plt.subplots(figsize=(32, 20))\n",
    "\n",
    "plt = setupChart(plt)\n",
    "plt = buildAreaChart(plt, dfg, labels, colors)\n",
    "plt.legend()\n",
    "plt.show()\n",
    "plt.savefig(r'/mnt/c/tmp/figure1-AreaSCP345.jpg')\n"
   ]
  },
  {
   "cell_type": "code",
   "execution_count": null,
   "metadata": {},
   "outputs": [],
   "source": [
    "plt.clf()\n",
    "fig, ax = plt.subplots(figsize=(32, 20))\n",
    "\n",
    "colors = ['red', 'green', 'blue']\n",
    "labels = ['SEA SCP 3', 'SEA SCP 4', 'SEA SCP 5']\n",
    "\n",
    "plt = setupChart(plt)\n",
    "plt = buildLineChart(plt, dfg, labels, colors)\n",
    "plt.legend()\n",
    "plt.show()\n",
    "plt.savefig(r'/mnt/c/tmp/figure2-LineSCP345.jpg')"
   ]
  },
  {
   "cell_type": "code",
   "execution_count": null,
   "metadata": {},
   "outputs": [],
   "source": [
    "plt.clf()\n",
    "fig, ax = plt.subplots(figsize=(32, 20))\n",
    "\n",
    "colors = ['red', 'green', 'blue']\n",
    "labels = ['SEA SCP 1', 'SEA SCP 2', 'SEA FIS']\n",
    "\n",
    "plt = setupChart(plt)\n",
    "plt = buildLineChart(plt, dfg, labels, colors)\n",
    "plt.legend()\n",
    "plt.show()\n",
    "plt.savefig(r'/mnt/c/tmp/figure3-LineSCP12FIS.jpg')"
   ]
  },
  {
   "cell_type": "code",
   "execution_count": null,
   "metadata": {},
   "outputs": [],
   "source": [
    "fig = plt.figure()\n",
    "ax = fig.add_subplot(111)\n",
    "\n",
    "ax.xaxis.set_major_locator(mdates.MonthLocator(interval=1))\n",
    "ax.xaxis.set_major_formatter(mdates.DateFormatter('%Y-%m-%d'))\n",
    "ax.xaxis.set_minor_locator(mdates.DayLocator(interval=7))\n",
    "\n",
    "ax.yaxis.set_major_locator(ticker.MultipleLocator(5000))\n",
    "ax.yaxis.set_minor_locator(ticker.MultipleLocator(1000))\n",
    "\n",
    "plt.title('LAS TSA Throughput by Date', fontsize=24)\n",
    "plt.ylabel('Number of Passengers', fontsize=16)\n",
    "plt.xlabel('Date', fontsize=16)\n",
    "\n",
    "plt.grid(True)\n",
    "\n",
    "animation = ani.FuncAnimation(fig, animateChart, frames=len(dfg), interval=50)\n",
    "animation.save(r'/mnt/c/tmp/animation.gif', \"ffmpeg\")\n"
   ]
  }
 ]
}