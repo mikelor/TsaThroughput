{
 "cells": [
  {
   "cell_type": "code",
   "execution_count": 1,
   "metadata": {},
   "outputs": [
    {
     "data": {
      "text/html": [
       "<div>\n",
       "<style scoped>\n",
       "    .dataframe tbody tr th:only-of-type {\n",
       "        vertical-align: middle;\n",
       "    }\n",
       "\n",
       "    .dataframe tbody tr th {\n",
       "        vertical-align: top;\n",
       "    }\n",
       "\n",
       "    .dataframe thead th {\n",
       "        text-align: right;\n",
       "    }\n",
       "</style>\n",
       "<table border=\"1\" class=\"dataframe\">\n",
       "  <thead>\n",
       "    <tr style=\"text-align: right;\">\n",
       "      <th></th>\n",
       "      <th>Hour</th>\n",
       "      <th>Amount</th>\n",
       "      <th>Airports.Days.Checkpoints.CheckpointName</th>\n",
       "      <th>Airports.Days.Date</th>\n",
       "      <th>Airports.AirportCode</th>\n",
       "      <th>Airports.AirportName</th>\n",
       "      <th>Airports.City</th>\n",
       "      <th>Airports.State</th>\n",
       "    </tr>\n",
       "  </thead>\n",
       "  <tbody>\n",
       "    <tr>\n",
       "      <th>0</th>\n",
       "      <td>2020-11-22T00:00:00</td>\n",
       "      <td>164</td>\n",
       "      <td>South Checkpoint</td>\n",
       "      <td>2020-11-22T00:00:00</td>\n",
       "      <td>ANC</td>\n",
       "      <td>Ted Stevens Anchorage International</td>\n",
       "      <td>Anchorage</td>\n",
       "      <td>AK</td>\n",
       "    </tr>\n",
       "    <tr>\n",
       "      <th>1</th>\n",
       "      <td>2020-11-22T01:00:00</td>\n",
       "      <td>52</td>\n",
       "      <td>South Checkpoint</td>\n",
       "      <td>2020-11-22T00:00:00</td>\n",
       "      <td>ANC</td>\n",
       "      <td>Ted Stevens Anchorage International</td>\n",
       "      <td>Anchorage</td>\n",
       "      <td>AK</td>\n",
       "    </tr>\n",
       "    <tr>\n",
       "      <th>2</th>\n",
       "      <td>2020-11-22T02:00:00</td>\n",
       "      <td>26</td>\n",
       "      <td>South Checkpoint</td>\n",
       "      <td>2020-11-22T00:00:00</td>\n",
       "      <td>ANC</td>\n",
       "      <td>Ted Stevens Anchorage International</td>\n",
       "      <td>Anchorage</td>\n",
       "      <td>AK</td>\n",
       "    </tr>\n",
       "    <tr>\n",
       "      <th>3</th>\n",
       "      <td>2020-11-22T03:00:00</td>\n",
       "      <td>65</td>\n",
       "      <td>South Checkpoint</td>\n",
       "      <td>2020-11-22T00:00:00</td>\n",
       "      <td>ANC</td>\n",
       "      <td>Ted Stevens Anchorage International</td>\n",
       "      <td>Anchorage</td>\n",
       "      <td>AK</td>\n",
       "    </tr>\n",
       "    <tr>\n",
       "      <th>4</th>\n",
       "      <td>2020-11-22T04:00:00</td>\n",
       "      <td>220</td>\n",
       "      <td>South Checkpoint</td>\n",
       "      <td>2020-11-22T00:00:00</td>\n",
       "      <td>ANC</td>\n",
       "      <td>Ted Stevens Anchorage International</td>\n",
       "      <td>Anchorage</td>\n",
       "      <td>AK</td>\n",
       "    </tr>\n",
       "  </tbody>\n",
       "</table>\n",
       "</div>"
      ],
      "text/plain": [
       "                  Hour  Amount Airports.Days.Checkpoints.CheckpointName  \\\n",
       "0  2020-11-22T00:00:00     164                         South Checkpoint   \n",
       "1  2020-11-22T01:00:00      52                         South Checkpoint   \n",
       "2  2020-11-22T02:00:00      26                         South Checkpoint   \n",
       "3  2020-11-22T03:00:00      65                         South Checkpoint   \n",
       "4  2020-11-22T04:00:00     220                         South Checkpoint   \n",
       "\n",
       "    Airports.Days.Date Airports.AirportCode  \\\n",
       "0  2020-11-22T00:00:00                  ANC   \n",
       "1  2020-11-22T00:00:00                  ANC   \n",
       "2  2020-11-22T00:00:00                  ANC   \n",
       "3  2020-11-22T00:00:00                  ANC   \n",
       "4  2020-11-22T00:00:00                  ANC   \n",
       "\n",
       "                  Airports.AirportName Airports.City Airports.State  \n",
       "0  Ted Stevens Anchorage International     Anchorage             AK  \n",
       "1  Ted Stevens Anchorage International     Anchorage             AK  \n",
       "2  Ted Stevens Anchorage International     Anchorage             AK  \n",
       "3  Ted Stevens Anchorage International     Anchorage             AK  \n",
       "4  Ted Stevens Anchorage International     Anchorage             AK  "
      ]
     },
     "execution_count": 1,
     "metadata": {},
     "output_type": "execute_result"
    }
   ],
   "source": [
    "# If you are seeing the below error...\n",
    "#   RuntimeError: The current Numpy installation ('C:\\\\Users\\\\mikel\\\\.virtualenvs\\\\flywhy\\\\lib\\\\site-packages\\\\numpy\\\\__init__.py') fails to pass a \n",
    "#   sanity check due to a bug in the windows runtime. See this issue for more information: https://tinyurl.com/y3dm3h86\n",
    "#\n",
    "# There's a problem w/using Pandas on Windows 2004. If you want to live on the edge, download this insiders preview buuild\n",
    "# https://blogs.windows.com/windows-insider/2020/12/03/announcing-windows-10-insider-preview-build-20270/\n",
    "# \n",
    "import numpy as np\n",
    "import pandas as pd\n",
    "from pandas_profiling import ProfileReport\n",
    "\n",
    "df = pd.read_csv(\"../../../data/tsa-throughput-nov15-nov28.csv\")\n",
    "df.head()"
   ]
  },
  {
   "cell_type": "code",
   "execution_count": 3,
   "metadata": {},
   "outputs": [],
   "source": [
    "profile = ProfileReport(df, title=\"Pandas Profiling Report\", explorative=True)"
   ]
  },
  {
   "cell_type": "code",
   "execution_count": 4,
   "metadata": {},
   "outputs": [
    {
     "data": {
      "application/vnd.jupyter.widget-view+json": {
       "model_id": "907b40edc782461b892207831dde8df2",
       "version_major": 2,
       "version_minor": 0
      },
      "text/plain": [
       "Summarize dataset:   0%|          | 0/22 [00:00<?, ?it/s]"
      ]
     },
     "metadata": {},
     "output_type": "display_data"
    },
    {
     "data": {
      "application/vnd.jupyter.widget-view+json": {
       "model_id": "f51fd6679e9248cd85c5e3864dd8e0c8",
       "version_major": 2,
       "version_minor": 0
      },
      "text/plain": [
       "Generate report structure:   0%|          | 0/1 [00:00<?, ?it/s]"
      ]
     },
     "metadata": {},
     "output_type": "display_data"
    },
    {
     "data": {
      "application/vnd.jupyter.widget-view+json": {
       "model_id": "",
       "version_major": 2,
       "version_minor": 0
      },
      "text/plain": [
       "Render widgets:   0%|          | 0/1 [00:00<?, ?it/s]"
      ]
     },
     "metadata": {},
     "output_type": "display_data"
    },
    {
     "data": {
      "application/vnd.jupyter.widget-view+json": {
       "model_id": "ed11870863694a438f6ca718abb74f4c",
       "version_major": 2,
       "version_minor": 0
      },
      "text/plain": [
       "VBox(children=(Tab(children=(Tab(children=(GridBox(children=(VBox(children=(GridspecLayout(children=(HTML(valu…"
      ]
     },
     "metadata": {},
     "output_type": "display_data"
    }
   ],
   "source": [
    "profile.to_widgets()"
   ]
  },
  {
   "cell_type": "code",
   "execution_count": 6,
   "metadata": {
    "scrolled": true
   },
   "outputs": [
    {
     "data": {
      "application/vnd.jupyter.widget-view+json": {
       "model_id": "ce7571a29ede40368515ae90f10cd55d",
       "version_major": 2,
       "version_minor": 0
      },
      "text/plain": [
       "Export report to file:   0%|          | 0/1 [00:00<?, ?it/s]"
      ]
     },
     "metadata": {},
     "output_type": "display_data"
    }
   ],
   "source": [
    "profile.to_file(\"../reports/output_tsathroughput.html\")"
   ]
  },
  {
   "cell_type": "code",
   "execution_count": 1,
   "metadata": {},
   "outputs": [
    {
     "data": {
      "text/html": [
       "<div>\n",
       "<style scoped>\n",
       "    .dataframe tbody tr th:only-of-type {\n",
       "        vertical-align: middle;\n",
       "    }\n",
       "\n",
       "    .dataframe tbody tr th {\n",
       "        vertical-align: top;\n",
       "    }\n",
       "\n",
       "    .dataframe thead th {\n",
       "        text-align: right;\n",
       "    }\n",
       "</style>\n",
       "<table border=\"1\" class=\"dataframe\">\n",
       "  <thead>\n",
       "    <tr style=\"text-align: right;\">\n",
       "      <th></th>\n",
       "      <th>Hour</th>\n",
       "      <th>Amount</th>\n",
       "      <th>Airports.Days.Checkpoints.CheckpointName</th>\n",
       "      <th>Airports.Days.Date</th>\n",
       "      <th>Airports.AirportCode</th>\n",
       "      <th>Airports.AirportName</th>\n",
       "      <th>Airports.City</th>\n",
       "      <th>Airports.State</th>\n",
       "    </tr>\n",
       "  </thead>\n",
       "  <tbody>\n",
       "    <tr>\n",
       "      <th>0</th>\n",
       "      <td>2020-11-15T00:00:00</td>\n",
       "      <td>173</td>\n",
       "      <td>South Checkpoint</td>\n",
       "      <td>2020-11-15T00:00:00</td>\n",
       "      <td>ANC</td>\n",
       "      <td>Ted Stevens Anchorage International</td>\n",
       "      <td>Anchorage</td>\n",
       "      <td>AK</td>\n",
       "    </tr>\n",
       "    <tr>\n",
       "      <th>1</th>\n",
       "      <td>2020-11-15T01:00:00</td>\n",
       "      <td>13</td>\n",
       "      <td>South Checkpoint</td>\n",
       "      <td>2020-11-15T00:00:00</td>\n",
       "      <td>ANC</td>\n",
       "      <td>Ted Stevens Anchorage International</td>\n",
       "      <td>Anchorage</td>\n",
       "      <td>AK</td>\n",
       "    </tr>\n",
       "    <tr>\n",
       "      <th>2</th>\n",
       "      <td>2020-11-15T02:00:00</td>\n",
       "      <td>4</td>\n",
       "      <td>South Checkpoint</td>\n",
       "      <td>2020-11-15T00:00:00</td>\n",
       "      <td>ANC</td>\n",
       "      <td>Ted Stevens Anchorage International</td>\n",
       "      <td>Anchorage</td>\n",
       "      <td>AK</td>\n",
       "    </tr>\n",
       "    <tr>\n",
       "      <th>3</th>\n",
       "      <td>2020-11-15T03:00:00</td>\n",
       "      <td>42</td>\n",
       "      <td>South Checkpoint</td>\n",
       "      <td>2020-11-15T00:00:00</td>\n",
       "      <td>ANC</td>\n",
       "      <td>Ted Stevens Anchorage International</td>\n",
       "      <td>Anchorage</td>\n",
       "      <td>AK</td>\n",
       "    </tr>\n",
       "    <tr>\n",
       "      <th>4</th>\n",
       "      <td>2020-11-15T04:00:00</td>\n",
       "      <td>169</td>\n",
       "      <td>South Checkpoint</td>\n",
       "      <td>2020-11-15T00:00:00</td>\n",
       "      <td>ANC</td>\n",
       "      <td>Ted Stevens Anchorage International</td>\n",
       "      <td>Anchorage</td>\n",
       "      <td>AK</td>\n",
       "    </tr>\n",
       "  </tbody>\n",
       "</table>\n",
       "</div>"
      ],
      "text/plain": [
       "                  Hour  Amount Airports.Days.Checkpoints.CheckpointName  \\\n",
       "0  2020-11-15T00:00:00     173                         South Checkpoint   \n",
       "1  2020-11-15T01:00:00      13                         South Checkpoint   \n",
       "2  2020-11-15T02:00:00       4                         South Checkpoint   \n",
       "3  2020-11-15T03:00:00      42                         South Checkpoint   \n",
       "4  2020-11-15T04:00:00     169                         South Checkpoint   \n",
       "\n",
       "    Airports.Days.Date Airports.AirportCode  \\\n",
       "0  2020-11-15T00:00:00                  ANC   \n",
       "1  2020-11-15T00:00:00                  ANC   \n",
       "2  2020-11-15T00:00:00                  ANC   \n",
       "3  2020-11-15T00:00:00                  ANC   \n",
       "4  2020-11-15T00:00:00                  ANC   \n",
       "\n",
       "                  Airports.AirportName Airports.City Airports.State  \n",
       "0  Ted Stevens Anchorage International     Anchorage             AK  \n",
       "1  Ted Stevens Anchorage International     Anchorage             AK  \n",
       "2  Ted Stevens Anchorage International     Anchorage             AK  \n",
       "3  Ted Stevens Anchorage International     Anchorage             AK  \n",
       "4  Ted Stevens Anchorage International     Anchorage             AK  "
      ]
     },
     "execution_count": 1,
     "metadata": {},
     "output_type": "execute_result"
    }
   ],
   "source": [
    "import numpy\n",
    "import pandas as pd\n",
    "import sweetviz as sv\n",
    "\n",
    "df = pd.read_csv(\"../../../data/tsa-throughput-nov15-nov28.csv\")\n",
    "df.head()"
   ]
  },
  {
   "cell_type": "code",
   "execution_count": 3,
   "metadata": {},
   "outputs": [
    {
     "data": {
      "text/plain": [
       "(54050, 8)"
      ]
     },
     "execution_count": 3,
     "metadata": {},
     "output_type": "execute_result"
    }
   ],
   "source": [
    "df.shape"
   ]
  },
  {
   "cell_type": "code",
   "execution_count": 4,
   "metadata": {},
   "outputs": [
    {
     "data": {
      "application/vnd.jupyter.widget-view+json": {
       "model_id": "4f4b9749f22840869d1966585e7272a6",
       "version_major": 2,
       "version_minor": 0
      },
      "text/plain": [
       "                                             |          | [  0%]   00:00 -> (? left)"
      ]
     },
     "metadata": {},
     "output_type": "display_data"
    },
    {
     "name": "stdout",
     "output_type": "stream",
     "text": [
      "Report ../reports/sweetviz_tsathroughput.html was generated! NOTEBOOK/COLAB USERS: the web browser MAY not pop up, regardless, the report IS saved in your notebook/colab files.\n"
     ]
    }
   ],
   "source": [
    "throughput_report = sv.analyze(df)\n",
    "throughput_report.show_html(\"../reports/sweetviz_tsathroughput.html\")"
   ]
  },
  {
   "cell_type": "code",
   "execution_count": null,
   "metadata": {},
   "outputs": [],
   "source": []
  }
 ],
 "metadata": {
  "kernelspec": {
   "display_name": "Python 3",
   "language": "python",
   "name": "python3"
  },
  "language_info": {
   "codemirror_mode": {
    "name": "ipython",
    "version": 3
   },
   "file_extension": ".py",
   "mimetype": "text/x-python",
   "name": "python",
   "nbconvert_exporter": "python",
   "pygments_lexer": "ipython3",
   "version": "3.8.5"
  }
 },
 "nbformat": 4,
 "nbformat_minor": 2
}
