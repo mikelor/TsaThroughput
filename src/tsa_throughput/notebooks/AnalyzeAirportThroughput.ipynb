{
 "metadata": {
  "language_info": {
   "codemirror_mode": {
    "name": "ipython",
    "version": 3
   },
   "file_extension": ".py",
   "mimetype": "text/x-python",
   "name": "python",
   "nbconvert_exporter": "python",
   "pygments_lexer": "ipython3",
   "version": "3.8.5-final"
  },
  "orig_nbformat": 2,
  "kernelspec": {
   "name": "python3",
   "display_name": "Python 3.8.5 64-bit ('tsathroughput')",
   "metadata": {
    "interpreter": {
     "hash": "68b2cd18e26ed12b4a93a5b9344ed23b371a39b1e0d7d72209a4ad6047e26bea"
    }
   }
  }
 },
 "nbformat": 4,
 "nbformat_minor": 2,
 "cells": [
  {
   "cell_type": "code",
   "execution_count": null,
   "metadata": {},
   "outputs": [],
   "source": [
    "import numpy as np\n",
    "import matplotlib.pyplot as plt\n",
    "import pandas as pd\n",
    "\n",
    "import matplotlib.animation as ani\n",
    "import matplotlib.dates as mdates\n",
    "import matplotlib.ticker as ticker\n",
    "\n",
    "from pathlib import Path"
   ]
  },
  {
   "cell_type": "code",
   "execution_count": null,
   "metadata": {},
   "outputs": [],
   "source": [
    "def setupChart(plt):\n",
    "\tplt.xticks(rotation=45, ha=\"right\", rotation_mode=\"anchor\") #rotate the x-axis values\n",
    "\t\n",
    "\tax = plt.gca()\n",
    "\t\n",
    "\tax.xaxis.set_major_locator(mdates.MonthLocator(interval=1))\n",
    "\tax.xaxis.set_major_formatter(mdates.DateFormatter('%Y-%m-%d'))\n",
    "\tax.xaxis.set_minor_locator(mdates.DayLocator(interval=7))\n",
    "\n",
    "\tax.yaxis.set_major_locator(ticker.MultipleLocator(5000))\n",
    "\tax.yaxis.set_minor_locator(ticker.MultipleLocator(1000))\n",
    "\n",
    "\tplt.title('SEA TSA Throughput by Date', fontsize=24)\n",
    "\tplt.ylabel('Number of Passengers', fontsize=16)\n",
    "\tplt.xlabel('Date', fontsize=16)\n",
    "\n",
    "\tplt.grid(True)\n",
    "\n",
    "\treturn plt"
   ]
  },
  {
   "cell_type": "code",
   "execution_count": null,
   "metadata": {},
   "outputs": [],
   "source": [
    "def buildAreaChart(plt, df, labels, colors):\n",
    "\tplt.stackplot(df['Date'], df[labels[0]], df[labels[1]], df[labels[2]], df[labels[3]], df[labels[4]], df[labels[5]], labels=labels, colors=colors)\n",
    "\treturn plt"
   ]
  },
  {
   "cell_type": "code",
   "execution_count": null,
   "metadata": {},
   "outputs": [],
   "source": [
    "def buildLineChart(plt, df, labels, colors):\n",
    "\tfor i in range(0, len(labels)):\n",
    "\t\tplt.plot(df['Date'], df[labels[i]], color=colors[i], label=labels[i])\n",
    "\n",
    "\treturn plt"
   ]
  },
  {
   "cell_type": "code",
   "execution_count": null,
   "metadata": {},
   "outputs": [],
   "source": [
    "def animateChart(i = int):\n",
    "\tp = plt.plot(dfg.loc[:i,'Date'], dfg.loc[:i, 'SEA SCP 3'])"
   ]
  },
  {
   "cell_type": "code",
   "execution_count": null,
   "metadata": {},
   "outputs": [],
   "source": [
    "# Load the file into a dataframe and checkout the structure\n",
    "projectDir = Path('.').resolve().parents[2]\n",
    "\n",
    "# Read in CSV file, Convert NaN values to 0's\n",
    "df = pd.read_csv(f'{projectDir}/data/processed/tsa/throughput/TsaThroughput.SEA.csv', header='infer')\n",
    "df.fillna(0, inplace=True)\n",
    "df = df.rename(columns = {'Airports.Days.Date' : 'Date', 'SEA FIS Checkpoint' : 'SEA FIS'}, inplace=False)\n",
    "df.Date = pd.to_datetime(df['Date'])\n",
    "\n",
    "\n",
    "# Checkpoint names have changed over time, so we need to consolidate to new names\n",
    "# SEA Offsite Checkpoint -> SCP 1\n",
    "# SEA South Checkpoint   -> SCP 2\t\t\n",
    "# SEA Central Checkpoint -> SCP 3    \n",
    "# SEA Charlie Checkpoint -> SCP 4   \n",
    "# SEA North Checkpoint   -> SCP 5\n",
    "# SEA FIS Checkpont      -> SEA FIS Checkpoint\n",
    "df['SEA SCP 1'] = df['SEA SCP 1'] + df['SEA Offsite Checkpoint']\n",
    "df['SEA SCP 2'] = df['SEA SCP 2'] + df['SEA South Checkpoint']\n",
    "df['SEA SCP 3'] = df['SEA SCP 3'] + df['SEA Central Checkpoint']\n",
    "df['SEA SCP 4'] = df['SEA SCP 4'] + df['SEA Charlie Checkpoint']\n",
    "df['SEA SCP 5'] = df['SEA SCP 5'] + df['SEA North Checkpoint']\n",
    "\n",
    "# Sum up the amount numbers by day for our graph\n",
    "dfg = df.groupby('Date', as_index=False).agg({'SEA SCP 1': 'sum', 'SEA SCP 2': 'sum', 'SEA SCP 3': 'sum', 'SEA SCP 4': 'sum', 'SEA SCP 5': 'sum', 'SEA FIS': 'sum'})\n"
   ]
  },
  {
   "cell_type": "code",
   "execution_count": null,
   "metadata": {},
   "outputs": [],
   "source": [
    "fig, ax = plt.subplots(figsize=(32, 20))\n",
    "\n",
    "#colors = ['red', 'green', 'orange', 'blue', 'purple', 'black']\n",
    "#labels = ['SEA SCP 1', 'SEA SCP 2', 'SEA SCP 3', 'SEA SCP 4', 'SEA SCP 5', 'SEA FIS']\n",
    "colors = ['red', 'green', 'blue']\n",
    "labels = ['SEA SCP 3', 'SEA SCP 4', 'SEA SCP 5']\n",
    "\n",
    "\n",
    "plt = setupChart(plt)\n",
    "plt.stackplot(dfg['Date'], dfg[labels[0]], dfg[labels[1]], dfg[labels[2]], labels=labels, colors=colors)\n",
    "plt.legend()\n",
    "plt.show()\n",
    "plt.savefig(r'/mnt/c/tmp/figure1-AreaSCP345.jpg')\n"
   ]
  },
  {
   "cell_type": "code",
   "execution_count": null,
   "metadata": {},
   "outputs": [],
   "source": [
    "plt.clf()\n",
    "fig, ax = plt.subplots(figsize=(32, 20))\n",
    "\n",
    "colors = ['red', 'green', 'blue']\n",
    "labels = ['SEA SCP 3', 'SEA SCP 4', 'SEA SCP 5']\n",
    "\n",
    "plt = setupChart(plt)\n",
    "plt = buildLineChart(plt, dfg, labels, colors)\n",
    "plt.legend()\n",
    "plt.show()\n",
    "plt.savefig(r'/mnt/c/tmp/figure2-LineSCP345.jpg')"
   ]
  },
  {
   "cell_type": "code",
   "execution_count": null,
   "metadata": {},
   "outputs": [],
   "source": [
    "plt.clf()\n",
    "fig, ax = plt.subplots(figsize=(32, 20))\n",
    "\n",
    "colors = ['red', 'green', 'blue']\n",
    "labels = ['SEA SCP 1', 'SEA SCP 2', 'SEA FIS']\n",
    "\n",
    "plt = setupChart(plt)\n",
    "plt = buildLineChart(plt, dfg, labels, colors)\n",
    "plt.legend()\n",
    "plt.show()\n",
    "plt.savefig(r'/mnt/c/tmp/figure3-LineSCP12FIS.jpg')"
   ]
  },
  {
   "cell_type": "code",
   "execution_count": null,
   "metadata": {},
   "outputs": [],
   "source": [
    "plt.clf()\n",
    "fig, ax = plt.subplots(figsize=(32, 20))\n",
    "\n",
    "colors = ['red', 'green', 'blue']\n",
    "labels = ['SEA SCP 3', 'SEA SCP 4', 'SEA SCP 5']\n",
    "\n",
    "plt = setupChart(plt)\n",
    "animation = ani.FuncAnimation(plt.gcf(), animateChart, interval=50)\n",
    "plt.show()\n",
    "animation.save(r'/mnt/c/tmp/animation.gif', \"ffmpeg\")\n"
   ]
  },
  {
   "cell_type": "code",
   "execution_count": null,
   "metadata": {},
   "outputs": [],
   "source": []
  }
 ]
}